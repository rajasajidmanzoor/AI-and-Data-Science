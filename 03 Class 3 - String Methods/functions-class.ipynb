{
 "cells": [
  {
   "cell_type": "code",
   "execution_count": 7,
   "id": "be70a7e5-9608-4a91-9dca-9d129becf262",
   "metadata": {},
   "outputs": [
    {
     "name": "stdout",
     "output_type": "stream",
     "text": [
      "Institute Name: SAYLANI MASS IT TRAINING PROGRAM \n",
      "Student Full Name: SAJID MANZOOR \n",
      "Course Name: A.I Batch-4 \n",
      "Roll number: 123456\n"
     ]
    }
   ],
   "source": [
    "# Concatination Method with **+** and Upper Case using isupper:\n",
    "\n",
    "first_name = \"Sajid\"\n",
    "last_name = \"Manzoor\"\n",
    "ins_name = \"Saylani Mass IT Training Program\"\n",
    "course_name = \"A.I Batch-4\"\n",
    "roll_num = 123456\n",
    "print(\"Institute Name: \"+ins_name.upper(),  \"\\nStudent Full Name: \"+first_name.upper() +' '+ last_name.upper(), \"\\nCourse Name: \"+course_name, \"\\nRoll number: \"+str(roll_num))\n"
   ]
  },
  {
   "cell_type": "code",
   "execution_count": 43,
   "id": "8a88bcff-620b-4e5f-bb8a-4f21757cb81e",
   "metadata": {},
   "outputs": [
    {
     "name": "stdout",
     "output_type": "stream",
     "text": [
      "******* str.swapcase() *******\n",
      "Swap Case: pAKISTANzINDABAD\n",
      "******** str.swapcase() ******\n",
      "Case Fold: pakistanzindabad\n",
      "*******str.count(ch) *******\n",
      "Existence of Character a in string: \n",
      "4\n",
      "******* len(str) *******\n",
      "Length: 17\n",
      "******* str.find() *******\n",
      "index of k: \n",
      "2\n",
      "index of n: \n",
      "7\n",
      "index of x: \n",
      "-1\n",
      "******** str.isalpha() ******\n",
      "True\n",
      "******** str.isalnum() ******\n",
      "True\n",
      "******** str.isdecimal() ******\n",
      "True\n",
      "******** str.isdigit() ******\n",
      "True\n"
     ]
    }
   ],
   "source": [
    "# Swap Case/ Case Fold  \n",
    "message = \"PakistanZindabad\"\n",
    "print('******* str.swapcase() *******')\n",
    "\n",
    "print('Swap Case: '+message.swapcase())\n",
    "print('******** str.swapcase() ******')\n",
    "print('Case Fold: '+ message.casefold())\n",
    "\n",
    "print('*******str.count(ch) *******')\n",
    "# Count existence of a character in a string\n",
    "message = \"Pakistan Zindabad\"  \n",
    "print(\"Existence of Character a in string: \")\n",
    "print(message.count('a'))\n",
    "\n",
    "print('******* len(str) *******')\n",
    "\n",
    "# Check length of a string \n",
    "print('Length: '+ str(len(message)))\n",
    "\n",
    "print('******* str.find() *******')\n",
    "\n",
    "# find Method (To check existence or index of any character )\n",
    "\n",
    "print(\"index of k: \");\n",
    "print(message.find(\"k\"))      # Returns index of k if string is broken into array with all characters\n",
    "\n",
    "print(\"index of n: \");\n",
    "\n",
    "print(message.find(\"n\"))    # Returns index of n if string is broken into array with all characters\n",
    "\n",
    "print(\"index of x: \");\n",
    "print(message.find(\"x\"))      # Returns -1 or false\n",
    "\n",
    "print('******** str.isalpha() ******')\n",
    "\n",
    "#Check is Alpha \n",
    "message1 = \"Pakistan\"\n",
    "print(message1.isalpha())\n",
    "\n",
    "print('******** str.isalnum() ******')\n",
    "\n",
    "roll_no = 'AI123456'\n",
    "#Check is Alpha Numeric\n",
    "print(roll_no.isalnum())\n",
    "\n",
    "print('******** str.isdecimal() ******')\n",
    "#Check is Decimal\n",
    "price = \"19999\"\n",
    "print(price.isdecimal())\n",
    "\n",
    "print('******** str.isdigit() ******')\n",
    "#Check is Decimal\n",
    "price = \"19999\"\n",
    "print(price.isdigit())"
   ]
  },
  {
   "cell_type": "code",
   "execution_count": null,
   "id": "c79ea09f-6021-433a-8f8b-49a3bdb93dd1",
   "metadata": {},
   "outputs": [],
   "source": []
  }
 ],
 "metadata": {
  "kernelspec": {
   "display_name": "Python 3 (ipykernel)",
   "language": "python",
   "name": "python3"
  },
  "language_info": {
   "codemirror_mode": {
    "name": "ipython",
    "version": 3
   },
   "file_extension": ".py",
   "mimetype": "text/x-python",
   "name": "python",
   "nbconvert_exporter": "python",
   "pygments_lexer": "ipython3",
   "version": "3.9.13"
  }
 },
 "nbformat": 4,
 "nbformat_minor": 5
}
