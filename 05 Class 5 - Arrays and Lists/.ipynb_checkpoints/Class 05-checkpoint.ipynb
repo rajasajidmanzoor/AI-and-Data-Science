{
 "cells": [
  {
   "cell_type": "code",
   "execution_count": 4,
   "id": "737d4629-78a4-4dad-83e7-e829d6edc507",
   "metadata": {},
   "outputs": [
    {
     "name": "stdout",
     "output_type": "stream",
     "text": [
      "['Sajid', 'Qamar', 'Qasim', 1000, 2000, 3000, 4000]\n",
      "Qasim\n",
      "4000\n"
     ]
    }
   ],
   "source": [
    "names = ['Sajid', 'Qamar', 'Qasim', 1000,2000,3000,4000]\n",
    "\n",
    "print (names);\n",
    "\n",
    "print(names[2]);\n",
    "print(names[-1]);"
   ]
  },
  {
   "cell_type": "markdown",
   "id": "c942562f-9d5b-4ed3-b840-5ec6dfb0fdbf",
   "metadata": {},
   "source": [
    "#helloworld"
   ]
  },
  {
   "cell_type": "code",
   "execution_count": 7,
   "id": "fd08fff8-7b79-4ec6-a481-8aa52c459f15",
   "metadata": {},
   "outputs": [
    {
     "name": "stdout",
     "output_type": "stream",
     "text": [
      "Hello World\n",
      "Hello World\n"
     ]
    }
   ],
   "source": [
    "def sayHello():\n",
    "    print(\"Hello World\");\n",
    "    \n",
    "sayHello()\n",
    "sayHello()\n",
    "\n",
    "    "
   ]
  },
  {
   "cell_type": "code",
   "execution_count": null,
   "id": "b82ab24f-50cc-4b6e-9cb0-09d983140884",
   "metadata": {},
   "outputs": [],
   "source": []
  }
 ],
 "metadata": {
  "kernelspec": {
   "display_name": "Python 3 (ipykernel)",
   "language": "python",
   "name": "python3"
  },
  "language_info": {
   "codemirror_mode": {
    "name": "ipython",
    "version": 3
   },
   "file_extension": ".py",
   "mimetype": "text/x-python",
   "name": "python",
   "nbconvert_exporter": "python",
   "pygments_lexer": "ipython3",
   "version": "3.9.13"
  }
 },
 "nbformat": 4,
 "nbformat_minor": 5
}
