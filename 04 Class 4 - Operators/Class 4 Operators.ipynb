{
 "cells": [
  {
   "cell_type": "code",
   "execution_count": 3,
   "id": "b5eebde0-7815-46c7-8cc5-97c9d537e4d8",
   "metadata": {},
   "outputs": [
    {
     "data": {
      "text/plain": [
       "109008"
      ]
     },
     "execution_count": 3,
     "metadata": {},
     "output_type": "execute_result"
    }
   ],
   "source": [
    "import math\n",
    "math.floor(109008)"
   ]
  },
  {
   "cell_type": "code",
   "execution_count": null,
   "id": "09008d67-1b73-436b-a2ca-4ff725e1f96e",
   "metadata": {},
   "outputs": [],
   "source": []
  }
 ],
 "metadata": {
  "kernelspec": {
   "display_name": "Python 3 (ipykernel)",
   "language": "python",
   "name": "python3"
  },
  "language_info": {
   "codemirror_mode": {
    "name": "ipython",
    "version": 3
   },
   "file_extension": ".py",
   "mimetype": "text/x-python",
   "name": "python",
   "nbconvert_exporter": "python",
   "pygments_lexer": "ipython3",
   "version": "3.9.13"
  }
 },
 "nbformat": 4,
 "nbformat_minor": 5
}
