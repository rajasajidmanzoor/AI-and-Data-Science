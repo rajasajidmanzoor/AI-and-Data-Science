{
 "cells": [
  {
   "cell_type": "code",
   "execution_count": 5,
   "id": "889f2d85-dfad-43d6-bd73-2c3f5fc797be",
   "metadata": {},
   "outputs": [
    {
     "name": "stdout",
     "output_type": "stream",
     "text": [
      "['Hello Pakistan']\n"
     ]
    }
   ],
   "source": [
    "f = open(\"text.txt\");\n",
    "print(f.readlines());\n",
    "\n",
    "f.close();\n"
   ]
  },
  {
   "cell_type": "code",
   "execution_count": null,
   "id": "e8c9f8a0-bcd3-485b-ab0f-c30699d0168e",
   "metadata": {},
   "outputs": [],
   "source": [
    "pip install opencv-python\n"
   ]
  },
  {
   "cell_type": "code",
   "execution_count": null,
   "id": "23786aa3-f802-4b8b-a641-6e4684b45af4",
   "metadata": {},
   "outputs": [],
   "source": []
  }
 ],
 "metadata": {
  "kernelspec": {
   "display_name": "Python 3 (ipykernel)",
   "language": "python",
   "name": "python3"
  },
  "language_info": {
   "codemirror_mode": {
    "name": "ipython",
    "version": 3
   },
   "file_extension": ".py",
   "mimetype": "text/x-python",
   "name": "python",
   "nbconvert_exporter": "python",
   "pygments_lexer": "ipython3",
   "version": "3.9.13"
  }
 },
 "nbformat": 4,
 "nbformat_minor": 5
}
